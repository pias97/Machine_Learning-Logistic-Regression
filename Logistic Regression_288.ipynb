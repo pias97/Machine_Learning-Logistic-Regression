{
  "nbformat": 4,
  "nbformat_minor": 0,
  "metadata": {
    "colab": {
      "name": "Logistic_288.ipynb",
      "provenance": [],
      "include_colab_link": true
    },
    "kernelspec": {
      "name": "python3",
      "display_name": "Python 3"
    }
  },
  "cells": [
    {
      "cell_type": "markdown",
      "metadata": {
        "id": "view-in-github",
        "colab_type": "text"
      },
      "source": [
        "<a href=\"https://colab.research.google.com/github/pias97/Machine_Learning-Logistic-Regression/blob/main/Logistic%20Regression_288.ipynb\" target=\"_parent\"><img src=\"https://colab.research.google.com/assets/colab-badge.svg\" alt=\"Open In Colab\"/></a>"
      ]
    },
    {
      "cell_type": "markdown",
      "metadata": {
        "id": "sSDkP8VL2fgH"
      },
      "source": [
        "#Data Import\n"
      ]
    },
    {
      "cell_type": "code",
      "metadata": {
        "id": "tRM66EFMm0fq"
      },
      "source": [
        "from sklearn import datasets\n",
        "import numpy as np\n",
        "import matplotlib.pyplot as plt\n",
        "import random\n",
        "\n",
        "iris = datasets.load_iris()\n",
        "X = iris.data[:, :2]\n",
        "y = (iris.target != 0) * 1\n",
        "\n",
        "X_list = X.tolist()\n",
        "Y_list = y.tolist()"
      ],
      "execution_count": null,
      "outputs": []
    },
    {
      "cell_type": "markdown",
      "metadata": {
        "id": "XeIoa6pS2k3a"
      },
      "source": [
        "#Data Preprocessing"
      ]
    },
    {
      "cell_type": "code",
      "metadata": {
        "id": "o6gzQ1l32pna",
        "colab": {
          "base_uri": "https://localhost:8080/"
        },
        "outputId": "c897bb2e-012c-4bf3-c03b-0e04884151dd"
      },
      "source": [
        "Train_x=[]\n",
        "Train_y=[]\n",
        "Val_x=[]\n",
        "Val_y=[]\n",
        "Test_x=[]\n",
        "Test_y=[]\n",
        "\n",
        "for i in range(len(X_list)):\n",
        "  X_list[i].insert(0, 1)\n",
        "\n",
        "for i in range(len(X_list)):\n",
        "  R = random.uniform(0, 1)\n",
        "  if R>=0 and R<=0.7:\n",
        "    Train_x.append(X_list[i])\n",
        "    Train_y.append(Y_list[i])\n",
        "  elif R>0.7 and R<=0.85:\n",
        "    Val_x.append(X_list[i])\n",
        "    Val_y.append(Y_list[i])\n",
        "  else:\n",
        "    Test_x.append(X_list[i])\n",
        "    Test_y.append(Y_list[i])\n",
        "\n",
        "\n",
        "print(len(Train_x))\n",
        "print(len(Val_x))\n",
        "print(len(Test_x))\n",
        "\n"
      ],
      "execution_count": null,
      "outputs": [
        {
          "output_type": "stream",
          "text": [
            "103\n",
            "28\n",
            "19\n"
          ],
          "name": "stdout"
        }
      ]
    },
    {
      "cell_type": "markdown",
      "metadata": {
        "id": "NstF5Jba246w"
      },
      "source": [
        "#Training Set"
      ]
    },
    {
      "cell_type": "code",
      "metadata": {
        "id": "ICGZjVTc29l0",
        "colab": {
          "base_uri": "https://localhost:8080/",
          "height": 312
        },
        "outputId": "01c8269b-9fc2-4893-bcb8-da118452c1a8"
      },
      "source": [
        "G_train_X=[]\n",
        "G_Train_Y=[]\n",
        "Train_x_array = np.array(Train_x)\n",
        "Train_y_array = np.array(Train_y)\n",
        "\n",
        "Theta = [0.6,0.9,0.3]\n",
        "lr = 0.00001\n",
        "\n",
        "for i in range(1000):\n",
        "  Tot_loss = 0\n",
        "  for j in range(len(Train_x)):\n",
        "    z = np.dot(Train_x_array[j],Theta)\n",
        "    h =  1/(1 + np.exp(-z))\n",
        "    loss = (-Train_y_array[j]*np.log(h))-((1-Train_y_array[j])*np.log(1-h))\n",
        "    Tot_loss = Tot_loss + loss\n",
        "    dv = Train_x_array[j]*(h-Train_y_array[j])\n",
        "    Theta = Theta - (dv*lr)\n",
        "\n",
        "  Tot_loss = Tot_loss/len(Train_x)\n",
        "\n",
        "  G_Train_Y.append(Tot_loss)\n",
        "  G_train_X.append(i)\n",
        "\n",
        "#Graph\n",
        "plt.plot(G_train_X,G_Train_Y)\n",
        "plt.title(\"Loss Function\")\n",
        "plt.xlabel(\"Iteration\")\n",
        "plt.ylabel(\"Loss\")\n",
        "plt.show()\n",
        "\n",
        "print(Theta)"
      ],
      "execution_count": null,
      "outputs": [
        {
          "output_type": "display_data",
          "data": {
            "image/png": "[encoded data removed]",
            "text/plain": [
              "<Figure size 432x288 with 1 Axes>"
            ]
          },
          "metadata": {
            "tags": [],
            "needs_background": "light"
          }
        },
        {
          "output_type": "stream",
          "text": [
            "[ 0.43970707  0.22890378 -0.32505574]\n"
          ],
          "name": "stdout"
        }
      ]
    },
    {
      "cell_type": "markdown",
      "metadata": {
        "id": "OUNbxucH3B-6"
      },
      "source": [
        "#Validation Set"
      ]
    },
    {
      "cell_type": "code",
      "metadata": {
        "id": "te7VeBIh3EmA",
        "colab": {
          "base_uri": "https://localhost:8080/",
          "height": 52
        },
        "outputId": "25a8a609-0a66-4a1e-a44e-83df3bb29d11"
      },
      "source": [
        "G_val_X=[]\n",
        "G_val_Y=[]\n",
        "\n",
        "Val_x_array = np.array(Val_x)\n",
        "Val_y_array = np.array(Val_y)\n",
        "\n",
        "correct = 0\n",
        "for i in range(len(Val_x)):\n",
        "  z = np.dot(Val_x_array[i],Theta)\n",
        "  h =  1/(1 + np.exp(-z))\n",
        "  if h>=0.5:\n",
        "    h=1\n",
        "  else:\n",
        "    h=0\n",
        "\n",
        "  if h==Val_y_array[i]:\n",
        "    correct = correct+1\n",
        "\n",
        "\n",
        "\n",
        "Val_acc = (correct/len(Val_x))*100\n",
        "print('Val_acc = ',Val_acc)\n",
        "\n",
        "\n",
        "\"\"\"\n",
        "#Graph\n",
        "plt.plot(G_val_X,G_val_Y)\n",
        "plt.title(\"Accuracy Measurement\")\n",
        "plt.xlabel(\"Iteration\")\n",
        "plt.ylabel(\"Accuracy\")\n",
        "plt.show()\n",
        "\"\"\""
      ],
      "execution_count": null,
      "outputs": [
        {
          "output_type": "stream",
          "text": [
            "Val_acc =  67.85714285714286\n"
          ],
          "name": "stdout"
        },
        {
          "output_type": "execute_result",
          "data": {
            "application/vnd.google.colaboratory.intrinsic+json": {
              "type": "string"
            },
            "text/plain": [
              "'\\n#Graph\\nplt.plot(G_val_X,G_val_Y)\\nplt.title(\"Accuracy Measurement\")\\nplt.xlabel(\"Iteration\")\\nplt.ylabel(\"Accuracy\")\\nplt.show()\\n'"
            ]
          },
          "metadata": {
            "tags": []
          },
          "execution_count": 114
        }
      ]
    },
    {
      "cell_type": "markdown",
      "metadata": {
        "id": "vuL5Ud4d3I9e"
      },
      "source": [
        "#Test Set"
      ]
    },
    {
      "cell_type": "code",
      "metadata": {
        "id": "dzf0Dp2b3KUB",
        "colab": {
          "base_uri": "https://localhost:8080/",
          "height": 52
        },
        "outputId": "059c7d3e-9dc9-48da-c275-f188f904daf7"
      },
      "source": [
        "G_test_X=[]\n",
        "G_test_Y=[]\n",
        "\n",
        "Test_x_array = np.array(Test_x)\n",
        "Test_y_array = np.array(Test_y)\n",
        "correct = 0\n",
        "\n",
        "for i in range(len(Test_x)):\n",
        "  z = np.dot(Test_x_array[i],Theta)\n",
        "  h =  1/(1 + np.exp(-z))\n",
        "  if h>=0.5:\n",
        "    h=1\n",
        "  else:\n",
        "    h=0\n",
        "\n",
        "  if h==Test_y_array[i]:\n",
        "    correct = correct+1\n",
        "    \n",
        "    G_test_X.append(i)\n",
        "    G_test_Y.append(correct)\n",
        "\n",
        "Test_acc = (correct/len(Test_x))*100\n",
        "print('Test_acc = ',Test_acc)\n",
        "\n",
        "\n",
        "\"\"\"\n",
        "#Graph\n",
        "plt.plot(G_val_X,G_val_Y)\n",
        "plt.title(\"Accuracy Measurement\")\n",
        "plt.xlabel(\"Iteration\")\n",
        "plt.ylabel(\"Accuracy\")\n",
        "plt.show()\n",
        "\"\"\""
      ],
      "execution_count": null,
      "outputs": [
        {
          "output_type": "stream",
          "text": [
            "Test_acc =  68.42105263157895\n"
          ],
          "name": "stdout"
        },
        {
          "output_type": "execute_result",
          "data": {
            "application/vnd.google.colaboratory.intrinsic+json": {
              "type": "string"
            },
            "text/plain": [
              "'\\n#Graph\\nplt.plot(G_val_X,G_val_Y)\\nplt.title(\"Accuracy Measurement\")\\nplt.xlabel(\"Iteration\")\\nplt.ylabel(\"Accuracy\")\\nplt.show()\\n'"
            ]
          },
          "metadata": {
            "tags": []
          },
          "execution_count": 115
        }
      ]
    }
  ]
}